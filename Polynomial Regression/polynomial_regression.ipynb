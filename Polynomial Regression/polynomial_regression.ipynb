{
  "cells": [
    {
      "cell_type": "markdown",
      "metadata": {
        "colab_type": "text",
        "id": "vN99YjPTDena"
      },
      "source": [
        "# Polynomial Regression"
      ]
    },
    {
      "cell_type": "markdown",
      "metadata": {
        "colab_type": "text",
        "id": "ZIx_naXnDyHd"
      },
      "source": [
        "## Importing the libraries"
      ]
    },
    {
      "cell_type": "code",
      "execution_count": 1,
      "metadata": {},
      "outputs": [],
      "source": [
        "import numpy as np\n",
        "import pandas as pd\n",
        "import matplotlib.pyplot as plt"
      ]
    },
    {
      "cell_type": "markdown",
      "metadata": {
        "colab_type": "text",
        "id": "6c8YExmOD5x5"
      },
      "source": [
        "## Importing the dataset"
      ]
    },
    {
      "cell_type": "code",
      "execution_count": 2,
      "metadata": {},
      "outputs": [],
      "source": [
        "dataset = pd.read_csv(\"Position_Salaries.csv\")\n",
        "x = dataset.iloc[:, 1:-1]\n",
        "y = dataset.iloc[:, -1]"
      ]
    },
    {
      "cell_type": "markdown",
      "metadata": {
        "colab_type": "text",
        "id": "Le8SEL-YEOLb"
      },
      "source": [
        "## Training the Linear Regression model on the whole dataset"
      ]
    },
    {
      "cell_type": "code",
      "execution_count": 3,
      "metadata": {},
      "outputs": [
        {
          "data": {
            "text/plain": [
              "LinearRegression()"
            ]
          },
          "execution_count": 3,
          "metadata": {},
          "output_type": "execute_result"
        }
      ],
      "source": [
        "# Import the LinearRegression class from scikit-learn's linear_model module\n",
        "from sklearn.linear_model import LinearRegression\n",
        "\n",
        "# Create an instance of the LinearRegression model\n",
        "regressor = LinearRegression()\n",
        "\n",
        "# Train the linear regression model using input features 'x' and target values 'y'\n",
        "regressor.fit(x, y)\n"
      ]
    },
    {
      "cell_type": "markdown",
      "metadata": {
        "colab_type": "text",
        "id": "Rb5nWuSHEfBV"
      },
      "source": [
        "## Training the Polynomial Regression model on the whole dataset"
      ]
    },
    {
      "cell_type": "code",
      "execution_count": 4,
      "metadata": {},
      "outputs": [
        {
          "data": {
            "text/plain": [
              "LinearRegression()"
            ]
          },
          "execution_count": 4,
          "metadata": {},
          "output_type": "execute_result"
        }
      ],
      "source": [
        "# Import the PolynomialFeatures class from scikit-learn's preprocessing module\n",
        "from sklearn.preprocessing import PolynomialFeatures\n",
        "\n",
        "# Create an instance of the PolynomialFeatures class with a degree of 4\n",
        "poly_reg = PolynomialFeatures(degree=4)\n",
        "\n",
        "# Transform the input features 'x' into polynomial features 'x_poly'\n",
        "x_poly = poly_reg.fit_transform(x)\n",
        "\n",
        "# Import the LinearRegression class from scikit-learn's linear_model module\n",
        "from sklearn.linear_model import LinearRegression\n",
        "\n",
        "# Create an instance of the LinearRegression model\n",
        "regressor_2 = LinearRegression()\n",
        "\n",
        "# Train the linear regression model using the polynomial features 'x_poly' and target values 'y'\n",
        "regressor_2.fit(x_poly, y)"
      ]
    },
    {
      "cell_type": "markdown",
      "metadata": {
        "colab_type": "text",
        "id": "0O8R0tzbEpvy"
      },
      "source": [
        "## Visualising the Linear Regression results"
      ]
    },
    {
      "cell_type": "code",
      "execution_count": 5,
      "metadata": {},
      "outputs": [
        {
          "data": {
            "image/png": "[encoded data removed]",
            "text/plain": [
              "<Figure size 432x288 with 1 Axes>"
            ]
          },
          "metadata": {
            "needs_background": "light"
          },
          "output_type": "display_data"
        }
      ],
      "source": [
        "# Scatter plot of the actual data points\n",
        "plt.scatter(x, y, color='red')\n",
        "\n",
        "# Plot the predictions made by the linear regression model\n",
        "plt.plot(x, regressor.predict(x))\n",
        "\n",
        "# Set the plot title\n",
        "plt.title('Truth or Bluff (Linear Regression)')\n",
        "\n",
        "# Set the x-axis label\n",
        "plt.xlabel(\"Position Level\")\n",
        "\n",
        "# Set the y-axis label\n",
        "plt.ylabel(\"Salaries\")\n",
        "\n",
        "# Display the plot\n",
        "plt.show()"
      ]
    },
    {
      "cell_type": "markdown",
      "metadata": {
        "colab_type": "text",
        "id": "stOnSo74E52m"
      },
      "source": [
        "## Visualising the Polynomial Regression results"
      ]
    },
    {
      "cell_type": "code",
      "execution_count": 6,
      "metadata": {},
      "outputs": [
        {
          "data": {
            "image/png": "[encoded data removed]",
            "text/plain": [
              "<Figure size 432x288 with 1 Axes>"
            ]
          },
          "metadata": {
            "needs_background": "light"
          },
          "output_type": "display_data"
        }
      ],
      "source": [
        "# Scatter plot of the actual data points\n",
        "plt.scatter(x, y, color='red')\n",
        "\n",
        "# Plot the predictions made by the polynomial regression model\n",
        "plt.plot(x, regressor_2.predict(x_poly))\n",
        "\n",
        "# Set the plot title\n",
        "plt.title('Truth or Bluff (Polynomial Regression)')\n",
        "\n",
        "# Set the x-axis label\n",
        "plt.xlabel(\"Position Level\")\n",
        "\n",
        "# Set the y-axis label\n",
        "plt.ylabel(\"Salaries\")\n",
        "\n",
        "# Display the plot\n",
        "plt.show()"
      ]
    },
    {
      "cell_type": "markdown",
      "metadata": {
        "colab_type": "text",
        "id": "diyJFZHhFFeK"
      },
      "source": [
        "## Predicting a new result with Linear Regression"
      ]
    },
    {
      "cell_type": "code",
      "execution_count": 7,
      "metadata": {},
      "outputs": [
        {
          "data": {
            "text/plain": [
              "array([330378.78787879])"
            ]
          },
          "execution_count": 7,
          "metadata": {},
          "output_type": "execute_result"
        }
      ],
      "source": [
        "# Predict the salary for a \"Position Level\" of 6.5 using the linear regression model\n",
        "predicted_salary = regressor.predict([[6.5]])\n",
        "# The 'predicted_salary' variable will contain the model's prediction for a \"Position Level\" of 6.5\n",
        "predicted_salary"
      ]
    },
    {
      "cell_type": "markdown",
      "metadata": {
        "colab_type": "text",
        "id": "DW7I7ZVDFNkk"
      },
      "source": [
        "## Predicting a new result with Polynomial Regression"
      ]
    },
    {
      "cell_type": "code",
      "execution_count": 8,
      "metadata": {},
      "outputs": [
        {
          "data": {
            "text/plain": [
              "array([158862.45265155])"
            ]
          },
          "execution_count": 8,
          "metadata": {},
          "output_type": "execute_result"
        }
      ],
      "source": [
        "# Predict the salary for a \"Position Level\" of 6.5 using the polynomial regression model\n",
        "predicted_salary_poly = regressor_2.predict(poly_reg.fit_transform([[6.5]]))\n",
        "# The 'predicted_salary_poly' variable will contain the model's prediction for a \"Position Level\" of 6.5\n",
        "predicted_salary_poly"
      ]
    }
  ],
  "metadata": {
    "colab": {
      "collapsed_sections": [],
      "name": "polynomial_regression.ipynb",
      "provenance": [],
      "toc_visible": true
    },
    "kernelspec": {
      "display_name": "Python 3",
      "name": "python3"
    },
    "language_info": {
      "codemirror_mode": {
        "name": "ipython",
        "version": 3
      },
      "file_extension": ".py",
      "mimetype": "text/x-python",
      "name": "python",
      "nbconvert_exporter": "python",
      "pygments_lexer": "ipython3",
      "version": "3.8.5"
    }
  },
  "nbformat": 4,
  "nbformat_minor": 0
}
